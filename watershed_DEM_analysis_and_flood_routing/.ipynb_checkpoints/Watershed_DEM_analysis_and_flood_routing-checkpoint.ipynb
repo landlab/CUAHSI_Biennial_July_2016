{
 "cells": [
  {
   "cell_type": "markdown",
   "metadata": {},
   "source": [
    "<a href=\"http://landlab.github.io\"><img style=\"float: left\" src=\"https://raw.githubusercontent.com/landlab/tutorials/master/landlab_header.png\"></a>"
   ]
  },
  {
   "cell_type": "markdown",
   "metadata": {},
   "source": [
    "# Watershed DEM processing and de Almeida (2012) 2D flow routing tutorial "
   ]
  },
  {
   "cell_type": "markdown",
   "metadata": {},
   "source": [
    "In this tutorial we will show how to:\n",
    "* read a watershed DEM\n",
    "* identify the outlet of the DEM\n",
    "* identify the main channel link to the outlet\n",
    "* run the de Almeida 2D flood routing algorithm for a given effective rainfall (rate and duration) and surface roughness."
   ]
  },
  {
   "cell_type": "code",
   "execution_count": null,
   "metadata": {
    "collapsed": false
   },
   "outputs": [],
   "source": [
    "from __future__ import print_function\n",
    "%matplotlib inline\n",
    "import os\n",
    "import time\n",
    "import numpy as np\n",
    "from landlab.plot.colors import water_colormap\n",
    "from landlab.io import read_esri_ascii\n",
    "from landlab.plot import imshow_grid\n",
    "from landlab.plot.imshow import imshow_node_grid, imshow_grid_at_cell\n",
    "from matplotlib import pyplot as plt\n",
    "from landlab.components.overland_flow import OverlandFlow"
   ]
  },
  {
   "cell_type": "markdown",
   "metadata": {},
   "source": [
    "Read the DEM and plot elavations. The grid name is \"mg\" and it will hold elevations \"z\". You will notice that color of elevations won't plot properly because of low no data values of the DEM. We will now upload a 10-m pit-filled DEM of a small gully watershed in Colorado."
   ]
  },
  {
   "cell_type": "code",
   "execution_count": null,
   "metadata": {
    "collapsed": false
   },
   "outputs": [],
   "source": [
    "(rmg,z)=read_esri_ascii('west_bijou_gully_PF.asc', name='elevation')\n",
    "imshow_grid(rmg, 'elevation')"
   ]
  },
  {
   "cell_type": "markdown",
   "metadata": {},
   "source": [
    "Next we will set the watershed boundary condition and identify the outlet using the elevation field and its no data value. As you will see the no data value of the DEM is 0.0. Now we can plot the DEM which will show only the elevations within the watershed boundary."
   ]
  },
  {
   "cell_type": "code",
   "execution_count": null,
   "metadata": {
    "collapsed": false
   },
   "outputs": [],
   "source": [
    "no_data=min(z)\n",
    "rmg.set_watershed_boundary_condition(z,no_data)\n",
    "imshow_grid(rmg, 'elevation')"
   ]
  },
  {
   "cell_type": "markdown",
   "metadata": {},
   "source": [
    "Relevant for this exercise, status of the nodes are as follows:\n",
    "Core: 0; Fixed value boundary: 1 (i.e., outlet); Closed boundary: 4. Status of our nodes can be plotted as:  "
   ]
  },
  {
   "cell_type": "code",
   "execution_count": null,
   "metadata": {
    "collapsed": false,
    "scrolled": true
   },
   "outputs": [],
   "source": [
    "imshow_grid(rmg, rmg.status_at_node,color_for_closed='blue')"
   ]
  },
  {
   "cell_type": "markdown",
   "metadata": {},
   "source": [
    "To route flow to the outlet in Landlab we need to identify the outlet of the watershed. The link that drains watershed to the outlet node can be used to plot storm runoff hydrograph. For this, the following steps can be followed. First identify the outlet node ID:"
   ]
  },
  {
   "cell_type": "code",
   "execution_count": null,
   "metadata": {
    "collapsed": false
   },
   "outputs": [],
   "source": [
    "outlet_node = np.where(rmg.status_at_node==1)\n",
    "outlet_node"
   ]
  },
  {
   "cell_type": "markdown",
   "metadata": {},
   "source": [
    "Now find the links that are connected to the outlet node"
   ]
  },
  {
   "cell_type": "code",
   "execution_count": null,
   "metadata": {
    "collapsed": false,
    "scrolled": true
   },
   "outputs": [],
   "source": [
    "rmg.links_at_node[296]"
   ]
  },
  {
   "cell_type": "markdown",
   "metadata": {},
   "source": [
    "we can identify the active links for this node as:"
   ]
  },
  {
   "cell_type": "code",
   "execution_count": null,
   "metadata": {
    "collapsed": false
   },
   "outputs": [],
   "source": [
    "rmg.status_at_link[rmg.links_at_node[296]]"
   ]
  },
  {
   "cell_type": "markdown",
   "metadata": {},
   "source": [
    "Here we can see that link 590 is the link we should be using for routing flows to the outlet. Now let's check the direction of this active link with respect to node 296."
   ]
  },
  {
   "cell_type": "code",
   "execution_count": null,
   "metadata": {
    "collapsed": false
   },
   "outputs": [],
   "source": [
    "rmg.active_link_dirs_at_node[296]"
   ]
  },
  {
   "cell_type": "markdown",
   "metadata": {},
   "source": [
    "The link direction is [-1]. This indicates that the node connected to 296 through link 590 is located either N or E of node 296. Node that link direction here is not flow direction. This comes from numbering convention of nodes and links. In our case it should be located N of 296, see the node status map above. This would mean that link 590 would have a tail node of 296, and a head node much larger than 296 as node IDs grow toward N and E in Landlab. Let's check link head and tail nodes for 590:"
   ]
  },
  {
   "cell_type": "code",
   "execution_count": null,
   "metadata": {
    "collapsed": false
   },
   "outputs": [],
   "source": [
    "rmg.node_at_link_head[590]"
   ]
  },
  {
   "cell_type": "code",
   "execution_count": null,
   "metadata": {
    "collapsed": false
   },
   "outputs": [],
   "source": [
    "rmg.node_at_link_tail[590]"
   ]
  },
  {
   "cell_type": "markdown",
   "metadata": {
    "collapsed": true
   },
   "source": [
    "Let's check the gradients for these links below. The active link 590 has a positive and realistic gradient, pointing S. This clearly shows that 590 is the link we are looking for."
   ]
  },
  {
   "cell_type": "code",
   "execution_count": null,
   "metadata": {
    "collapsed": false,
    "scrolled": true
   },
   "outputs": [],
   "source": [
    "rmg.calc_grad_at_link(z)[rmg.links_at_node[296]]"
   ]
  },
  {
   "cell_type": "markdown",
   "metadata": {},
   "source": [
    "In what follows, we will use a driver which utilizes the OverlandFlow class from generate_overland_flow_deAlmeida.py to simulate a storm runoff hydrograph for a given duration and rate of effective rainfall (runoff) and surface roughness. This component is based on the model proposed by de Almeida et al. [2012]. If you want to use this driver separate from the DEM analysis above, please uncomment the lines in the first and second box below. These are commented out as DEM processing was done above. \n",
    "\n",
    "de Almeida, G. A. M., P. Bates, J. E. Freer, and M. Souvignet (2012), Improving the stability of a simple formulation of the shallow water equations for 2-D flood modeling, Water Resour. Res., 48, W05528, doi:10.1029/2011WR011570.\n",
    "\n",
    "For quesitons contact: Adams, Jordan M <jadams15@tulane.edu>, Nicole Gasparini <ngaspari@tulane.edu> "
   ]
  },
  {
   "cell_type": "code",
   "execution_count": null,
   "metadata": {
    "collapsed": true
   },
   "outputs": [],
   "source": [
    "# from __future__ import print_function\n",
    "# %matplotlib inline\n",
    "# import os\n",
    "# import time\n",
    "# import numpy as np\n",
    "# from landlab.plot.colors import water_colormap\n",
    "# from landlab.io import read_esri_ascii\n",
    "# from landlab.plot import imshow_grid\n",
    "# from landlab.plot.imshow import imshow_node_grid, imshow_grid_at_cell\n",
    "# from matplotlib import pyplot as plt\n",
    "# from landlab.components.overland_flow import OverlandFlow"
   ]
  },
  {
   "cell_type": "code",
   "execution_count": null,
   "metadata": {
    "collapsed": true
   },
   "outputs": [],
   "source": [
    "# (rmg, z) = read_esri_ascii('west_bijou_gully_PF.asc')\n",
    "# rmg.set_watershed_boundary_condition(z,0)"
   ]
  },
  {
   "cell_type": "code",
   "execution_count": null,
   "metadata": {
    "collapsed": true
   },
   "outputs": [],
   "source": [
    "# This provides us with an initial time. At the end, it gives us total\n",
    "# model run time in seconds.\n",
    "start_time = time.time()"
   ]
  },
  {
   "cell_type": "markdown",
   "metadata": {},
   "source": [
    "some model input parameters"
   ]
  },
  {
   "cell_type": "code",
   "execution_count": null,
   "metadata": {
    "collapsed": true
   },
   "outputs": [],
   "source": [
    "## Start time 1 second\n",
    "elapsed_time = 1.0\n",
    "\n",
    "model_run_time = 1.0     ## Model Run Time in hours\n",
    "storm_duration = 0.25    ## Storm duration hours\n",
    "runoff_intensity = 50    ## Runoff intensity (mm/h)\n",
    "mannings_n=0.05          ## surface roughness "
   ]
  },
  {
   "cell_type": "markdown",
   "metadata": {},
   "source": [
    "Initialize fields and list data to save and plot"
   ]
  },
  {
   "cell_type": "code",
   "execution_count": null,
   "metadata": {
    "collapsed": true
   },
   "outputs": [],
   "source": [
    "## Lists for saving data to plot storm runoff hydrograph \n",
    "discharge_at_outlet = []\n",
    "hydrograph_time_sec = []\n",
    "hydrograph_time_hrs = []\n",
    "## Setting initial fields...\n",
    "rmg['node']['topographic__elevation'] = z   ## this is a static field; water discharge and depth will change with time\n",
    "rmg['link']['water__discharge'] = np.zeros(rmg.number_of_links) \n",
    "rmg['node']['water__depth'] = np.zeros(rmg.number_of_nodes)"
   ]
  },
  {
   "cell_type": "markdown",
   "metadata": {},
   "source": [
    "Initialize the overland flow class, indicate the link to plot hydrograph "
   ]
  },
  {
   "cell_type": "code",
   "execution_count": null,
   "metadata": {
    "collapsed": true
   },
   "outputs": [],
   "source": [
    "## Initialize the OverlandFlow() class.\n",
    "of = OverlandFlow(rmg, steep_slopes=True, mannings_n=mannings_n)\n",
    "start_time = time.time() ## Record the start time so we know how long it runs.\n",
    "link_to_sample = 590     ## Link to sample at the outlet to plot hydrograph\n",
    "switch_plot_inter = 0    ## this is used to limit water depth plot to a single figure plotted at a specified time below."
   ]
  },
  {
   "cell_type": "markdown",
   "metadata": {},
   "source": [
    "This is the main loop of the overland flow routing solution that runs for the given model run time. This also plots water depths in the watershed at the peak time of the hydrograph. "
   ]
  },
  {
   "cell_type": "code",
   "execution_count": null,
   "metadata": {
    "collapsed": false
   },
   "outputs": [],
   "source": [
    "while elapsed_time < model_run_time*3600:\n",
    "    \n",
    "    ## The storm starts when the model starts. While the elapsed time is less\n",
    "    ## than the storm duration, we add water to the system as rainfall.\n",
    "    if elapsed_time < storm_duration*3600:\n",
    "\n",
    "        of.rainfall_intensity = runoff_intensity* 2.777 * (10 ** -7) # Rainfall intensity (m/s)\n",
    "\n",
    "    ## Then the elapsed time exceeds the storm duration, rainfall ceases.\n",
    "    else:\n",
    "\n",
    "        of.rainfall_intensity = 0.0\n",
    "\n",
    "    ## Generating overland flow based on the deAlmeida solution.\n",
    "    of.overland_flow()\n",
    "\n",
    "    ## Append time and discharge to their lists to save data and for plotting.\n",
    "    hydrograph_time_sec.append(elapsed_time)\n",
    "    hydrograph_time_hrs.append(elapsed_time/3600.)\n",
    "    discharge_at_outlet.append(of.q[link_to_sample])\n",
    "    \n",
    "     ## plot after elapsed_time=1080s-- this time is approximately when peak discharge is attained in the watershed you can adjust this value  \n",
    "    if elapsed_time > 1080 and switch_plot_inter == 0:\n",
    "        plt.figure(1)\n",
    "        imshow_grid(rmg, 'water__depth', cmap='Blues')\n",
    "        switch_plot_inter = 1\n",
    "\n",
    "   ## Add the time step, repeat until elapsed time >= model_run_time\n",
    "   # print(elapsed_time)  # uncomment this to print time.\n",
    "    elapsed_time += of.dt"
   ]
  },
  {
   "cell_type": "markdown",
   "metadata": {},
   "source": [
    "Here is the hydrograph"
   ]
  },
  {
   "cell_type": "code",
   "execution_count": null,
   "metadata": {
    "collapsed": false
   },
   "outputs": [],
   "source": [
    "plt.figure(2)\n",
    "plt.plot(hydrograph_time_hrs, (np.abs(discharge_at_outlet)*rmg.dx), 'b-')\n",
    "plt.xlabel('Time (hrs)')\n",
    "plt.ylabel('Discharge (cms)')\n",
    "plt.title('Hydrograph')"
   ]
  },
  {
   "cell_type": "code",
   "execution_count": null,
   "metadata": {
    "collapsed": false
   },
   "outputs": [],
   "source": [
    "endtime = time.time()\n",
    "print('\\n', 'Total run time: ', round(endtime - start_time, 2), ' seconds')"
   ]
  }
 ],
 "metadata": {
  "anaconda-cloud": {},
  "kernelspec": {
   "display_name": "Python 2",
   "language": "python",
   "name": "python2"
  },
  "language_info": {
   "codemirror_mode": {
    "name": "ipython",
    "version": 2
   },
   "file_extension": ".py",
   "mimetype": "text/x-python",
   "name": "python",
   "nbconvert_exporter": "python",
   "pygments_lexer": "ipython2",
   "version": "2.7.11"
  }
 },
 "nbformat": 4,
 "nbformat_minor": 0
}
